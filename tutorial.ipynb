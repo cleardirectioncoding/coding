{
 "cells": [
  {
   "cell_type": "markdown",
   "metadata": {},
   "source": [
    "# Introduction to Python"
   ]
  },
  {
   "cell_type": "markdown",
   "metadata": {},
   "source": [
    "This tutorial is adapted from [Coder Dojo](http://kata.coderdojo.com/images/2/28/Python_beginner.pdf), a website of free python tutorials."
   ]
  },
  {
   "cell_type": "markdown",
   "metadata": {},
   "source": [
    "You're going to learn programming and how to build a game with a\n",
    "language called Python.  Websites like YouTube and Instagram are built using Python."
   ]
  },
  {
   "cell_type": "markdown",
   "metadata": {},
   "source": [
    "## 1. Learning python with Jupyter notebook"
   ]
  },
  {
   "cell_type": "markdown",
   "metadata": {},
   "source": [
    "We are going to learn python within [jupyter notebook](http://jupyter.org) environment. Now, time for your first bit of Python. You're going to get the computer to say\n",
    "hello to everyone. \n",
    "\n",
    "* <span style=\"color:red\"> The stuff in the gray box is python code.  Run the code below, the computer will return output underneath the gray box.  To run code, click on the box and  press shift + enter. When you come across gray boxes or instrustion in red througout this exercise, continue to execute the code as you do here. </span> "
   ]
  },
  {
   "cell_type": "code",
   "execution_count": 2,
   "metadata": {
    "collapsed": false
   },
   "outputs": [
    {
     "name": "stdout",
     "output_type": "stream",
     "text": [
      "Hello everyone\n"
     ]
    }
   ],
   "source": [
    "print(\"Hello everyone\")"
   ]
  },
  {
   "cell_type": "markdown",
   "metadata": {},
   "source": [
    "* <span style=\"color:red\"> Try changing the code below, specifically what’s inside the \" symbols, maybe by adding your name, and running it again. </span> "
   ]
  },
  {
   "cell_type": "code",
   "execution_count": 1,
   "metadata": {
    "collapsed": false
   },
   "outputs": [
    {
     "name": "stdout",
     "output_type": "stream",
     "text": [
      "Hello Andrew\n"
     ]
    }
   ],
   "source": [
    "print(\"Hello Andrew\")"
   ]
  },
  {
   "cell_type": "markdown",
   "metadata": {},
   "source": [
    "## 2. Strings"
   ]
  },
  {
   "cell_type": "markdown",
   "metadata": {},
   "source": [
    "Now we are going to insert a new cell for coding.  \n",
    "1. <span style=\"color:red\"> Click on Insert located above and in the drop-down, click on Insert Cell Below.  Notice that another gray box appears below.</span>   \n",
    "2. <span style=\"color:red\"> Copy and paste the following code into your gray box and run the code:</span> \n",
    "\n",
    "`print(\"Hello everyone\")\n",
    "print(\"The Code, it's calling to you. Just let it in.\")`"
   ]
  },
  {
   "cell_type": "code",
   "execution_count": 2,
   "metadata": {
    "collapsed": false
   },
   "outputs": [
    {
     "name": "stdout",
     "output_type": "stream",
     "text": [
      "Hello everyone\n"
     ]
    }
   ],
   "source": [
    "print('Hello everyone')"
   ]
  },
  {
   "cell_type": "markdown",
   "metadata": {},
   "source": [
    "See how the text (called a **string**) from the second print is on a new line? This is because the instruction the computer gets when you tell it to print is:\n",
    "* Read the code in the brackets and figure out the result\n",
    "* Once you’ve figured out what it says, print that out on the screen. \n",
    "* Put an invisible “start a new line” instruction at the end."
   ]
  },
  {
   "cell_type": "markdown",
   "metadata": {},
   "source": [
    "## 3. Variables"
   ]
  },
  {
   "cell_type": "markdown",
   "metadata": {},
   "source": [
    "Why does the computer need to figure out what the code in those brackets says? It's because the computer can put that string together from parts you give it.\n",
    "* <span style=\"color:red\"> Try it! Run this code, but put your name in where it says \"my name\" (keep the \" characters though!):</span>"
   ]
  },
  {
   "cell_type": "code",
   "execution_count": 3,
   "metadata": {
    "collapsed": false
   },
   "outputs": [
    {
     "name": "stdout",
     "output_type": "stream",
     "text": [
      "Hello Andrew\n",
      "The Code, it's calling to you. Just let it in.\n"
     ]
    }
   ],
   "source": [
    "name = \"Andrew\"\n",
    "print(\"Hello \" + name)\n",
    "print(\"The Code, it's calling to you. Just let it in.\")"
   ]
  },
  {
   "cell_type": "markdown",
   "metadata": {},
   "source": [
    "You have to include a space after Hello and before the \" or you'll just get \"Hellomy name\"! The computer doesn't know what English looks like!"
   ]
  },
  {
   "cell_type": "markdown",
   "metadata": {},
   "source": [
    "## 4. Variables"
   ]
  },
  {
   "cell_type": "markdown",
   "metadata": {},
   "source": [
    "You made a **variable**, called <span style=\"color:blue\">name</span>. This is like a box inside the computer, with a label on it. You can put anything you want in it. Then, you can use the label to get python to go fetch the thing that’s in the box and use it in your code. You created the name variable and stored \"[my name]\" in it. On the next line, you used the variable to stick that name into your greeting, by using the + symbol to attach it to the end of the **string**."
   ]
  },
  {
   "cell_type": "markdown",
   "metadata": {},
   "source": [
    "Getting the computer to stick your name on the end of \"Hello \" is nice, but why not just write \"Hello [my name]\"? Because with a **variable** you don't have to know what's going into it when you write the program. You can even ask the user of the program to tell you what to put into it. "
   ]
  },
  {
   "cell_type": "markdown",
   "metadata": {},
   "source": [
    "## 4. Taking User Input"
   ]
  },
  {
   "cell_type": "markdown",
   "metadata": {},
   "source": [
    "Here is an update of the program you've already run, but now your program can take user input using the function **input()**. \n",
    "* <span style=\"color:red\"> Run the code below, You'll need to press the \"Enter\" key once you've typed in your name.</span>"
   ]
  },
  {
   "cell_type": "code",
   "execution_count": 4,
   "metadata": {
    "collapsed": false
   },
   "outputs": [
    {
     "name": "stdout",
     "output_type": "stream",
     "text": [
      "What is your name?Andrew\n",
      "Hello Andrew\n",
      "The Code, it's calling to you. Just let it in.\n"
     ]
    }
   ],
   "source": [
    "name = input(\"What is your name?\")\n",
    "print(\"Hello \" + name)\n",
    "print(\"The Code, it's calling to you. Just let it in.\")"
   ]
  },
  {
   "cell_type": "markdown",
   "metadata": {},
   "source": [
    "Notice when you <span style=\"color:red\"> run the code below </span> how the variable <span style=\"color:blue\">name</span> now holds the input value from \"What is your name?\""
   ]
  },
  {
   "cell_type": "code",
   "execution_count": 5,
   "metadata": {
    "collapsed": false,
    "scrolled": true
   },
   "outputs": [
    {
     "name": "stdout",
     "output_type": "stream",
     "text": [
      "Andrew\n"
     ]
    }
   ],
   "source": [
    "print(name)"
   ]
  },
  {
   "cell_type": "markdown",
   "metadata": {},
   "source": [
    "## 5. Numbers and Math"
   ]
  },
  {
   "cell_type": "markdown",
   "metadata": {},
   "source": [
    "Now, try collecting a number from your user. Notice that you can use the + on both sides of a variable.\n",
    "* <span style=\"color:red\"> Run this program, answer its questions and watch what happens.</span>"
   ]
  },
  {
   "cell_type": "code",
   "execution_count": 6,
   "metadata": {
    "collapsed": false
   },
   "outputs": [
    {
     "name": "stdout",
     "output_type": "stream",
     "text": [
      "What is your name?Andrew\n",
      "Hello Andrew, please pick a number7\n",
      "Your number is 7\n"
     ]
    }
   ],
   "source": [
    "name = input(\"What is your name?\")\n",
    "my_number = input(\"Hello \"+name+\", please pick a number\")\n",
    "print(\"Your number is \"+my_number)"
   ]
  },
  {
   "cell_type": "markdown",
   "metadata": {},
   "source": [
    "What if you want to add a number to your variable? Add a line to your\n",
    "program that will add 1  to the my_number variable (which has been done in the code below).\n",
    "￼￼"
   ]
  },
  {
   "cell_type": "code",
   "execution_count": 7,
   "metadata": {
    "collapsed": false
   },
   "outputs": [
    {
     "name": "stdout",
     "output_type": "stream",
     "text": [
      "What is your name?Andrew\n",
      "Hello Andrew please pick a number1\n",
      "Your number is 2\n"
     ]
    }
   ],
   "source": [
    "name = input(\"What is your name?\")\n",
    "my_number = input(\"Hello \"+name+\" please pick a number\")\n",
    "my_number = int(my_number) + 1 \n",
    "print(\"Your number is \"+str(my_number))"
   ]
  },
  {
   "cell_type": "markdown",
   "metadata": {},
   "source": [
    "￼See, you've taken a value from a variable, changed it and stored it back in the same variable all on the same line!"
   ]
  },
  {
   "cell_type": "markdown",
   "metadata": {},
   "source": [
    "Now, why does the code have **int( )** and **str( )** around my_number?\n",
    "It's because Python thinks of the number 1, which it uses for math, differently to the number '1' which it writes in a sentence. Putting **int( )** around a variable tells it to treat it as an **integer** (a math number), and putting **str( )** around it tells it to treat it as a text **string**.\n",
    "**Integers** and **strings** are variable types and certain pieces of code (like + and print) only work if the variables you give them are the right type."
   ]
  },
  {
   "cell_type": "markdown",
   "metadata": {},
   "source": [
    "￼You've seen how to add here, but you can also:\n",
    "* Subtract using - \n",
    "* Multiply using *\n",
    "* Divide using /"
   ]
  },
  {
   "cell_type": "markdown",
   "metadata": {},
   "source": [
    "You can ask Python to compare one number to another number. This can be really handy (does the player have as much money as those pants cost?). You do this using special symbols:\n",
    "* a > b asks if a is bigger than b\n",
    "* a < b asks if a is smaller than b\n",
    "* a == b asks if a is the same as b\n",
    "* a != b asks if a is not the same size as b\n",
    "* a >= b asks if a is bigger than, or the same size as b a <= b asks if a is smaller than, or the same size as b"
   ]
  },
  {
   "cell_type": "markdown",
   "metadata": {},
   "source": [
    "￼==\n",
    "The double-equals is used to compare variables, because the single equals is already used assign values to them."
   ]
  },
  {
   "cell_type": "markdown",
   "metadata": {},
   "source": [
    "You use these comparisons is inside if statements: code that should only run if a condition (in the brackets) is true. In this case, printing some text."
   ]
  },
  {
   "cell_type": "markdown",
   "metadata": {},
   "source": [
    "## 6. Conditionals"
   ]
  },
  {
   "cell_type": "code",
   "execution_count": 9,
   "metadata": {
    "collapsed": false
   },
   "outputs": [],
   "source": [
    "if my_number > 100 :\n",
    "    print(\"That's a big number!\")"
   ]
  },
  {
   "cell_type": "markdown",
   "metadata": {},
   "source": [
    "The print is _indented_. That means that four spaces have been put before it. Python needs these spaces to understand your program."
   ]
  },
  {
   "cell_type": "markdown",
   "metadata": {},
   "source": [
    "Now, we are going to put together the pieces of code we've worked with so far.  This code will require that you input your name, require you to pick a number, and then compare your number to 100 to see whether it is bigger or smaller.  If your number is bigger than 100, the the code will output \"That's a big number!\"\n"
   ]
  },
  {
   "cell_type": "code",
   "execution_count": 10,
   "metadata": {
    "collapsed": false
   },
   "outputs": [
    {
     "name": "stdout",
     "output_type": "stream",
     "text": [
      "What is your name?Andrew\n",
      "Hello Andrew please pick a number4\n",
      "Your number is 4\n"
     ]
    }
   ],
   "source": [
    "name = input(\"What is your name?\")\n",
    "my_number = input(\"Hello \"+name+\" please pick a number\")\n",
    "my_number = int(my_number)\n",
    "print(\"Your number is \"+str(my_number))\n",
    "if(my_number > 100): print(\"That's a big number!\")"
   ]
  },
  {
   "cell_type": "markdown",
   "metadata": {},
   "source": [
    "<span style=\"color:red\"> Run this program, answer its questions and watch what happens.Now run it and try entering different numbers, above and below 100 to see what happens. What would happen if you entered 100 exactly? \n",
    "*  <span style=\"color:red\"> To rerun the above code, click on the code box, click on the Cell option in the menu above, and from the dropdown select Current Outputs, and then clear. Now run the code again with different selections. </span>\n"
   ]
  },
  {
   "cell_type": "markdown",
   "metadata": {},
   "source": [
    "You can also combine conditions, using and & or. So this let's you write code like:"
   ]
  },
  {
   "cell_type": "code",
   "execution_count": 11,
   "metadata": {
    "collapsed": true
   },
   "outputs": [],
   "source": [
    "if my_number >= 20 and my_number < 30:\n",
    "    print(\"That number is in the twenties!\")"
   ]
  },
  {
   "cell_type": "markdown",
   "metadata": {},
   "source": [
    "Or, for example:"
   ]
  },
  {
   "cell_type": "code",
   "execution_count": 13,
   "metadata": {
    "collapsed": false
   },
   "outputs": [
    {
     "name": "stdout",
     "output_type": "stream",
     "text": [
      "Sounds tasty!\n"
     ]
    }
   ],
   "source": [
    "food = 'Cake'\n",
    "if food == \"Cake\" or food == \"Chocolate\" or food == \"Pie\":\n",
    "    print(\"Sounds tasty!\")"
   ]
  },
  {
   "cell_type": "markdown",
   "metadata": {},
   "source": [
    "What if you want to check if the user's number is big enough, and tell them if it's not? Say if it's bigger than 100. Then, either congratulate the user on giving a number that's big enough, or tell them where they went wrong. Try this:\n",
    "￼"
   ]
  },
  {
   "cell_type": "code",
   "execution_count": 14,
   "metadata": {
    "collapsed": false
   },
   "outputs": [
    {
     "name": "stdout",
     "output_type": "stream",
     "text": [
      "What is your name?Andrew\n",
      "Hello Andrew please pick a number thats bigger than 100200\n",
      "Your number is 200\n",
      "That is a big number!\n"
     ]
    }
   ],
   "source": [
    "name = input(\"What is your name?\")\n",
    "my_number = input(\"Hello \"+ name +\" please pick a number thats bigger than 100\")\n",
    "my_number = int(my_number)\n",
    "print(\"Your number is \"+ str(my_number))\n",
    "if my_number > 100:\n",
    "    print('That is a big number!')\n",
    "else:\n",
    "    print('That number is too small!')"
   ]
  },
  {
   "cell_type": "markdown",
   "metadata": {},
   "source": [
    "Here the else works like an if statement where the condition is \"the thing in the if isn't true\""
   ]
  },
  {
   "cell_type": "markdown",
   "metadata": {},
   "source": [
    "What if you want to tell the user if they're close? Say if they've picked a number over 90? Then you use an elif. That's else and if stuck together, because it happens only if the thing in the if statement isn't true and if the thing in the elif statement's brackets is true. So here's what you add to get the program to tell the user they're close (notice that elif must come between if and else):\n"
   ]
  },
  {
   "cell_type": "code",
   "execution_count": 15,
   "metadata": {
    "collapsed": false
   },
   "outputs": [
    {
     "name": "stdout",
     "output_type": "stream",
     "text": [
      "That is a big number!\n"
     ]
    }
   ],
   "source": [
    "if my_number > 100:\n",
    "    print('That is a big number!')\n",
    "elif my_number > 90:\n",
    "    print('Almost there!')\n",
    "else:\n",
    "    print('That number is too small!')"
   ]
  },
  {
   "cell_type": "markdown",
   "metadata": {},
   "source": [
    "And here's what it looks like with the rest of the program:"
   ]
  },
  {
   "cell_type": "code",
   "execution_count": 16,
   "metadata": {
    "collapsed": false
   },
   "outputs": [
    {
     "name": "stdout",
     "output_type": "stream",
     "text": [
      "What is your name?Andrew\n",
      "Hello Andrew please pick a number thats bigger than 1007777\n",
      "Your number is 7777\n",
      "That is a big number!\n"
     ]
    }
   ],
   "source": [
    "name = input(\"What is your name?\")\n",
    "my_number = input(\"Hello \"+ name +\" please pick a number thats bigger than 100\")\n",
    "my_number = int(my_number)\n",
    "print(\"Your number is \"+ str(my_number))\n",
    "\n",
    "if my_number > 100:\n",
    "    print('That is a big number!')\n",
    "elif my_number > 90:\n",
    "    print('Almost there!')\n",
    "else:\n",
    "    print('That number is too small!')"
   ]
  },
  {
   "cell_type": "markdown",
   "metadata": {},
   "source": [
    "## 7. While Loops"
   ]
  },
  {
   "cell_type": "markdown",
   "metadata": {},
   "source": [
    "You can ask the user to pick a number now, check if it's the right size and, if it isn't, tell them it's not. What if you wanted it to keep going until you got an answer that was the right size? You could write if statements inside if statements, but what if the user still doesn't give you the right size of number?\n",
    "You need a way to ask the question over and over until you get the right kind of answer. The way to do this in computer programming is called a loop. You're going to use one called the **while loop**.\n",
    "\n",
    "A **while loop** is a bit like an **if statement**: it has code inside it that only runs if the condition in brackets is true. The difference is that a while loop runs over and over, until its condition is false. You have to make sure that there is always a way out of your **while loops**, or they'll run forever! It looks like this:"
   ]
  },
  {
   "cell_type": "code",
   "execution_count": 10,
   "metadata": {
    "collapsed": false
   },
   "outputs": [
    {
     "name": "stdout",
     "output_type": "stream",
     "text": [
      "Hello Amanda please pick a number that's bigger than 100200\n"
     ]
    }
   ],
   "source": [
    "while my_number < 100:\n",
    "    my_number = input(\"Hello \"+name+\" please pick a number that's bigger than 100\") \n",
    "    my_number = int(my_number)"
   ]
  },
  {
   "cell_type": "markdown",
   "metadata": {},
   "source": [
    "Now add a while loop to your program."
   ]
  },
  {
   "cell_type": "code",
   "execution_count": 13,
   "metadata": {
    "collapsed": false
   },
   "outputs": [
    {
     "name": "stdout",
     "output_type": "stream",
     "text": [
      "What is your name?Amanda\n",
      "Hello Amanda please pick a number that's bigger than 1002\n",
      "Your number is 2\n",
      "That number is too small!\n",
      "Hello Amanda please pick a number that's bigger than 100200\n",
      "Your number is 200\n",
      "That is a big number!\n"
     ]
    }
   ],
   "source": [
    "name = input(\"What is your name?\") \n",
    "my_number = 0\n",
    "# Loop as long as \"my_number\" is less than 100\n",
    "while(my_number < 100):\n",
    "    # Ask the user for a number\n",
    "    my_number = input(\"Hello \"+name+\" please pick a number that's bigger than 100\")\n",
    "    # Convert the user's answer from a string to an integer\n",
    "    my_number = int(my_number)\n",
    "    print(\"Your number is \"+str(my_number)) \n",
    "    if my_number > 100:\n",
    "        print('That is a big number!')\n",
    "    elif my_number > 90:\n",
    "        print('Almost there!')\n",
    "    else:\n",
    "        print('That number is too small!')\n",
    "# If my_number is smaller than 100 at this point, loop again"
   ]
  },
  {
   "cell_type": "markdown",
   "metadata": {},
   "source": [
    "￼**Comments** - These are notes for programmers (or you later) that the computer will ignore, they have a #. "
   ]
  },
  {
   "cell_type": "markdown",
   "metadata": {},
   "source": [
    "So now you've learned about:\n",
    "* **print** statements: Talking to our user\n",
    "* **variables** : A way to get our program to remember and update values strings: Pieces of text\n",
    "* **input**: How to get information from our user\n",
    "* **math**: How to do math with numbers\n",
    "* **integers**: Numbers for doing math with\n",
    "* **if statements**: Do something based on a condition\n",
    "* **while loops**: Keep doing something until a condition isn't true"
   ]
  },
  {
   "cell_type": "markdown",
   "metadata": {},
   "source": [
    "Try using these to make this game:\n",
    "* assign a number to a variable between 1 and 9. \n",
    "* The player has 5 guesses to pick the number\n",
    "* The player is told after each guess whether the number is lower, higher, or right, and how many guesses they have left\n",
    "* If the player gets their guess right, they get a special winning message\n",
    "* If the player gets their 5th guess wrong, the game is over and they lose"
   ]
  },
  {
   "cell_type": "code",
   "execution_count": null,
   "metadata": {
    "collapsed": true
   },
   "outputs": [],
   "source": []
  },
  {
   "cell_type": "markdown",
   "metadata": {},
   "source": [
    "You can play an example of the game at [dojo.soy/py-dice](http://codepen.io/philhar/full/NAjxZQ/)."
   ]
  }
 ],
 "metadata": {
  "anaconda-cloud": {},
  "kernelspec": {
   "display_name": "Python 3",
   "language": "python",
   "name": "python3"
  },
  "language_info": {
   "codemirror_mode": {
    "name": "ipython",
    "version": 3
   },
   "file_extension": ".py",
   "mimetype": "text/x-python",
   "name": "python",
   "nbconvert_exporter": "python",
   "pygments_lexer": "ipython3",
   "version": "3.5.1"
  }
 },
 "nbformat": 4,
 "nbformat_minor": 2
}
